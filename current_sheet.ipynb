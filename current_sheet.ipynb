# -*- coding: utf-8 -*-
"""
Created on Sat Mar 14 15:05:13 2015

@author: Xiaoguang
"""

# -*- coding: utf-8 -*-
from mpl_toolkits.mplot3d import Axes3D
import mpl_toolkits.mplot3d.art3d as art3d

import matplotlib.pyplot as plt
import numpy as np
from itertools import product, combinations

fig = plt.figure()
ax = fig.gca(projection='3d')
ax.set_aspect("equal")

#draw cube
#r = [-1, 1]
#for s, e in combinations(np.array(list(product(r,r,r))), 2):
#    if np.sum(np.abs(s-e)) == r[1]-r[0]:
#        ax.plot3D(*zip(s,e), color="b")

#draw current rectangle
#alpha controls the transparency
from matplotlib.patches import Rectangle, PathPatch
p = Rectangle((0,-5), 1.5, 10, alpha=0.1)
ax.add_patch(p)
art3d.pathpatch_2d_to_3d(p, z=0,zdir="z")


#draw ds rectangle
p = Rectangle((0.7,0.7), 0.1, 0.1)
ax.add_patch(p)
art3d.pathpatch_2d_to_3d(p, z=0,zdir="z")

        
#draw sphere
#u, v = np.mgrid[0:2*np.pi:20j, 0:np.pi:10j]
#x=np.cos(u)*np.sin(v)
#y=np.sin(u)*np.sin(v)
#z=np.cos(v)
#ax.plot_wireframe(x, y, z, color="r")

#draw a point
#ax.scatter([0],[0],[0],color="g",s=100)

#draw a vector
from matplotlib.patches import FancyArrowPatch
from mpl_toolkits.mplot3d import proj3d

class Arrow3D(FancyArrowPatch):
    def __init__(self, xs, ys, zs, *args, **kwargs):
        FancyArrowPatch.__init__(self, (0,0), (0,0), *args, **kwargs)
        self._verts3d = xs, ys, zs

    def draw(self, renderer):
        xs3d, ys3d, zs3d = self._verts3d
        xs, ys, zs = proj3d.proj_transform(xs3d, ys3d, zs3d, renderer.M)
        self.set_positions((xs[0],ys[0]),(xs[1],ys[1]))
        FancyArrowPatch.draw(self, renderer)

a = Arrow3D([0,1],[0,1],[0,1], mutation_scale=20, lw=1, arrowstyle="-|>", color="k")
x_axis = Arrow3D([0,5],[0,0],[0,0], mutation_scale=20, lw=1, arrowstyle="-|>", color="k")
y_axis = Arrow3D([0,0],[0,5],[0,0], mutation_scale=20, lw=1, arrowstyle="-|>", color="k")
z_axis = Arrow3D([0,0],[0,0],[0,5], mutation_scale=20, lw=1, arrowstyle="-|>", color="k")

ax.add_artist(a)
ax.add_artist(x_axis)
ax.add_artist(y_axis)
ax.add_artist(z_axis)

plt.show()
